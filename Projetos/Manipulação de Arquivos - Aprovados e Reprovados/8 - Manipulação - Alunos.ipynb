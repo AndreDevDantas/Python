{
 "cells": [
  {
   "cell_type": "code",
   "execution_count": 8,
   "metadata": {},
   "outputs": [],
   "source": [
    "#Mapear o diretório dos arquivos\n",
    "\n",
    "from os import path, getcwd\n",
    "\n",
    "pasta = path.join(getcwd(), \"6.1-Arquivos\")"
   ]
  },
  {
   "cell_type": "code",
   "execution_count": 9,
   "metadata": {},
   "outputs": [
    {
     "name": "stdout",
     "output_type": "stream",
     "text": [
      "['Andre#10#9#8.5\\n', 'Maria#9#6.8#8.5\\n', 'Pedro#7#4#3.8\\n', 'Fatima#9#6.8#8.5\\n', 'Saulo#7.7#4.9#7.8\\n', 'Joana#8.3#8.7#6.8\\n', 'Tiago#6.8#5.3#5.8\\n', 'runo#7.5#6.8#4.8']\n"
     ]
    }
   ],
   "source": [
    "#Abrir o arquivo e manipular os dados\n",
    "\n",
    "arquivo = path.join(pasta, \"dados.txt\")\n",
    "with open(arquivo) as a:\n",
    "    dados = a.readlines()\n",
    "\n",
    "print(dados)"
   ]
  },
  {
   "cell_type": "code",
   "execution_count": 10,
   "metadata": {},
   "outputs": [],
   "source": [
    "#Manipular os dados para verificar os aprovados e reprovados\n",
    "\n",
    "aprovados = []\n",
    "reprovados = []\n",
    "\n",
    "for dado in dados:\n",
    "    notas = dado[0:-1].split(\"#\")\n",
    "    n1, n2, n3 = float(notas[1]), float(notas[2]), float(notas[3])\n",
    "    media = (n1+n2+n3) / 3\n",
    "    if round(media,1) >= 6:\n",
    "        aprovados.append(dado[0:-1] + \"#\" + str(round(media,1)) + \"\\n\")\n",
    "    else:\n",
    "        reprovados.append(dado[0:-1] + \"#\" + str(round(media,1)) + \"\\n\")\n",
    "\n",
    "arquivo_aprovados = path.join(pasta, \"aprovados.txt\")\n",
    "arquivo_reprovados = path.join(pasta, \"reprovados.txt\")\n",
    "\n",
    "with open(path.join(arquivo_aprovados), mode=\"w\") as a:\n",
    "    a.writelines(aprovados)\n",
    "\n",
    "with open(path.join(arquivo_reprovados), mode=\"w\") as a:\n",
    "    a.writelines(reprovados)"
   ]
  }
 ],
 "metadata": {
  "kernelspec": {
   "display_name": "Python 3",
   "language": "python",
   "name": "python3"
  },
  "language_info": {
   "codemirror_mode": {
    "name": "ipython",
    "version": 3
   },
   "file_extension": ".py",
   "mimetype": "text/x-python",
   "name": "python",
   "nbconvert_exporter": "python",
   "pygments_lexer": "ipython3",
   "version": "3.12.3"
  }
 },
 "nbformat": 4,
 "nbformat_minor": 2
}
