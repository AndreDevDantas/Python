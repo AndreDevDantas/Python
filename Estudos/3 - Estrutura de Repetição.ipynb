{
 "cells": [
  {
   "cell_type": "markdown",
   "metadata": {},
   "source": [
    "## Testes com FOR"
   ]
  },
  {
   "cell_type": "code",
   "execution_count": 1,
   "metadata": {},
   "outputs": [
    {
     "name": "stdout",
     "output_type": "stream",
     "text": [
      "2\n",
      "3\n",
      "4\n"
     ]
    }
   ],
   "source": [
    "for x in range(2,5):\n",
    "    print(x)"
   ]
  },
  {
   "cell_type": "code",
   "execution_count": 3,
   "metadata": {},
   "outputs": [
    {
     "name": "stdout",
     "output_type": "stream",
     "text": [
      "0\n",
      "2\n",
      "4\n",
      "6\n",
      "8\n"
     ]
    }
   ],
   "source": [
    "for x in range(0, 10, 2):\n",
    "    print(x)"
   ]
  },
  {
   "cell_type": "code",
   "execution_count": 4,
   "metadata": {},
   "outputs": [
    {
     "name": "stdout",
     "output_type": "stream",
     "text": [
      "10\n",
      "8\n",
      "6\n",
      "4\n",
      "2\n"
     ]
    }
   ],
   "source": [
    "for x in range(10, 0, -2):\n",
    "    print(x)"
   ]
  },
  {
   "cell_type": "code",
   "execution_count": 2,
   "metadata": {},
   "outputs": [
    {
     "name": "stdout",
     "output_type": "stream",
     "text": [
      "b\n",
      "e\n",
      "m\n",
      " \n",
      "v\n",
      "i\n",
      "n\n",
      "d\n",
      "o\n",
      " \n",
      "a\n",
      "o\n",
      " \n",
      "c\n",
      "o\n",
      "d\n",
      "i\n",
      "g\n",
      "o\n"
     ]
    }
   ],
   "source": [
    "frase = \"bem vindo ao codigo\"\n",
    "for caractere in frase:\n",
    "  print(caractere)"
   ]
  },
  {
   "cell_type": "code",
   "execution_count": 8,
   "metadata": {},
   "outputs": [
    {
     "name": "stdout",
     "output_type": "stream",
     "text": [
      "1\n",
      "2\n",
      "3\n"
     ]
    }
   ],
   "source": [
    "n = int(input('informe o total de alunos'))\n",
    "for i in range(1, n+1): #começa da posição 0, então coloco n+1 para apresentar como se começasse do 1\n",
    "  print(i) "
   ]
  },
  {
   "cell_type": "code",
   "execution_count": 9,
   "metadata": {},
   "outputs": [
    {
     "name": "stdout",
     "output_type": "stream",
     "text": [
      "['item 1', 'item 2', 'item 3', 'item 4', 'item 5', 'item 6', 'item 7', 'item 8', 'item 9']\n",
      "item 1\n",
      "item 2\n",
      "item 3\n",
      "item 4\n",
      "item 5\n",
      "item 6\n",
      "item 7\n",
      "item 8\n",
      "item 9\n"
     ]
    }
   ],
   "source": [
    "minha_lista = []\n",
    "for item in range(1, 10):\n",
    "  minha_lista.append(f\"item {item}\")\n",
    "\n",
    "print(minha_lista)\n",
    "\n",
    "for item in minha_lista:\n",
    "  print(item)"
   ]
  },
  {
   "cell_type": "code",
   "execution_count": 10,
   "metadata": {},
   "outputs": [
    {
     "name": "stdout",
     "output_type": "stream",
     "text": [
      "1\n",
      "a\n",
      "True\n",
      "André\n",
      "30\n"
     ]
    }
   ],
   "source": [
    "minha_tupla = (1, 'a', True)\n",
    "for i in minha_tupla:\n",
    "  print(i)\n",
    "\n",
    "meu_dicionario = {'nome': 'André', 'idade': 30}\n",
    "for key, value in meu_dicionario.items():\n",
    "  print(value)"
   ]
  },
  {
   "cell_type": "code",
   "execution_count": 1,
   "metadata": {},
   "outputs": [
    {
     "name": "stdout",
     "output_type": "stream",
     "text": [
      "73\n",
      "95\n",
      "69\n",
      "23\n",
      "46\n"
     ]
    }
   ],
   "source": [
    "from random import randint\n",
    "for x in range (0,5):\n",
    "    sorteio = randint(1, 100)\n",
    "    print(sorteio)"
   ]
  },
  {
   "cell_type": "markdown",
   "metadata": {},
   "source": [
    "## Testes com WHILE"
   ]
  },
  {
   "cell_type": "code",
   "execution_count": 5,
   "metadata": {},
   "outputs": [
    {
     "name": "stdout",
     "output_type": "stream",
     "text": [
      "0\n",
      "1\n",
      "2\n",
      "3\n",
      "4\n"
     ]
    }
   ],
   "source": [
    "x = 0 \n",
    "while x < 5:\n",
    "    print(x)\n",
    "    x +=1"
   ]
  },
  {
   "cell_type": "code",
   "execution_count": 6,
   "metadata": {},
   "outputs": [
    {
     "name": "stdout",
     "output_type": "stream",
     "text": [
      "3\n",
      "4\n"
     ]
    }
   ],
   "source": [
    "inicio = int(input(\"Digite o valor inicial: \"))\n",
    "fim = int(input(\"Digite o valor final: \"))\n",
    "while inicio < fim:\n",
    "    print(inicio)\n",
    "    inicio += 1"
   ]
  },
  {
   "cell_type": "markdown",
   "metadata": {},
   "source": [
    "## Testes com Break"
   ]
  },
  {
   "cell_type": "code",
   "execution_count": 11,
   "metadata": {},
   "outputs": [
    {
     "name": "stdout",
     "output_type": "stream",
     "text": [
      "o valor de i (0) é menor que 10\n",
      "o valor de i (1) é menor que 10\n",
      "o valor de i (2) é menor que 10\n",
      "o valor de i (3) é menor que 10\n",
      "o valor de i (4) é menor que 10\n",
      "o valor de i (5) é menor que 10\n"
     ]
    }
   ],
   "source": [
    "i = 0 # variável de controle\n",
    "while i < 10:\n",
    "  if i > 5: break\n",
    "  print(f\"o valor de i ({i}) é menor que 10\")\n",
    "  i += 1"
   ]
  },
  {
   "cell_type": "markdown",
   "metadata": {},
   "source": [
    "## Testes com Continue"
   ]
  },
  {
   "cell_type": "code",
   "execution_count": 12,
   "metadata": {},
   "outputs": [
    {
     "name": "stdout",
     "output_type": "stream",
     "text": [
      "o valor de i (1) é menor que 10\n",
      "o valor de i (3) é menor que 10\n",
      "o valor de i (5) é menor que 10\n",
      "o valor de i (7) é menor que 10\n",
      "o valor de i (9) é menor que 10\n"
     ]
    }
   ],
   "source": [
    "i = 0 # variável de controle\n",
    "while i < 10:\n",
    "  if i % 2 == 0: \n",
    "    i += 1\n",
    "    continue\n",
    "  print(f\"o valor de i ({i}) é menor que 10\")\n",
    "  i += 1"
   ]
  },
  {
   "cell_type": "markdown",
   "metadata": {},
   "source": [
    "## Fixação"
   ]
  },
  {
   "cell_type": "markdown",
   "metadata": {},
   "source": [
    "**Fazer um programa que soma X numeros gerados aleatoriamente no intervalo de 1 a 10, onde X é informado pelo usuario**"
   ]
  },
  {
   "cell_type": "code",
   "execution_count": 2,
   "metadata": {},
   "outputs": [
    {
     "name": "stdout",
     "output_type": "stream",
     "text": [
      "O valor sorteado na 1º foi: 3\n",
      "O valor sorteado na 2º foi: 3\n",
      "O valor sorteado na 3º foi: 7\n",
      "O valor sorteado na 4º foi: 3\n",
      "O valor total é 16\n"
     ]
    }
   ],
   "source": [
    "from random import randint\n",
    "X = int(input(\"Digite o valor de numeros desejados: \"))\n",
    "acumulador = 0\n",
    "for s in range (0,X):\n",
    "  sorteio = randint(1, 10)\n",
    "  print(f\"O valor sorteado na {s + 1}º foi: {sorteio}\")\n",
    "  acumulador = acumulador + sorteio\n",
    "print(f\"O valor total é {acumulador}\")"
   ]
  },
  {
   "cell_type": "markdown",
   "metadata": {},
   "source": [
    "**Calcular o fatorial de um numero qualquer**"
   ]
  },
  {
   "cell_type": "code",
   "execution_count": 4,
   "metadata": {},
   "outputs": [
    {
     "name": "stdout",
     "output_type": "stream",
     "text": [
      "O valor do fatorial é: 120\n"
     ]
    }
   ],
   "source": [
    "F = int(input(\"Digite o valor do fatorial: \"))\n",
    "acumulador = 1\n",
    "\n",
    "for s in range (1, F+1):\n",
    "  acumulador = acumulador*s\n",
    "\n",
    "print(f\"O valor do fatorial é: {acumulador}\")"
   ]
  },
  {
   "cell_type": "markdown",
   "metadata": {},
   "source": [
    "**Imprimir todos os quadrados menores que n. Por exemplo, se n for 100, imprimir 0 1 4 9 16 25 36 49 64 81.**"
   ]
  },
  {
   "cell_type": "code",
   "execution_count": 5,
   "metadata": {},
   "outputs": [
    {
     "name": "stdout",
     "output_type": "stream",
     "text": [
      "0\n",
      "0\n",
      "1\n",
      "4\n",
      "9\n",
      "16\n",
      "25\n",
      "36\n",
      "49\n",
      "64\n",
      "81\n"
     ]
    }
   ],
   "source": [
    "n = float(input('Digite o Valor de N: '))\n",
    "x = 0\n",
    "y = 0\n",
    "while y < n:\n",
    "  print (y)\n",
    "  y = x * x\n",
    "  x+= 1"
   ]
  },
  {
   "cell_type": "markdown",
   "metadata": {},
   "source": [
    "**Imprimir a soma de todos os números ímpares entre a e b.**"
   ]
  },
  {
   "cell_type": "code",
   "execution_count": 6,
   "metadata": {},
   "outputs": [
    {
     "name": "stdout",
     "output_type": "stream",
     "text": [
      "625.0\n"
     ]
    }
   ],
   "source": [
    "a = float(input('Digite o valor de A: '))\n",
    "b = float(input('Digite o valor de B: '))\n",
    "n = 0\n",
    "\n",
    "while a <= b:\n",
    "  resto = a % 2\n",
    "  if(resto != 0):\n",
    "    n = n + a\n",
    "  a+= 1\n",
    "print(n)"
   ]
  }
 ],
 "metadata": {
  "kernelspec": {
   "display_name": "Python 3",
   "language": "python",
   "name": "python3"
  },
  "language_info": {
   "codemirror_mode": {
    "name": "ipython",
    "version": 3
   },
   "file_extension": ".py",
   "mimetype": "text/x-python",
   "name": "python",
   "nbconvert_exporter": "python",
   "pygments_lexer": "ipython3",
   "version": "3.12.3"
  }
 },
 "nbformat": 4,
 "nbformat_minor": 2
}
