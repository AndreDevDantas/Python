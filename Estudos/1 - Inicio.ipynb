{
 "cells": [
  {
   "cell_type": "code",
   "execution_count": 2,
   "metadata": {},
   "outputs": [
    {
     "name": "stdout",
     "output_type": "stream",
     "text": [
      "Olá Mundo\n",
      "None\n"
     ]
    }
   ],
   "source": [
    "#Primeiro Hello World\n",
    "nome = print(\"Olá Mundo\")\n",
    "print(nome)"
   ]
  },
  {
   "cell_type": "code",
   "execution_count": 2,
   "metadata": {},
   "outputs": [
    {
     "name": "stdout",
     "output_type": "stream",
     "text": [
      "andre\n"
     ]
    }
   ],
   "source": [
    "#Teste com Input\n",
    "nome = input(\"Informe o nome para ser apresentado: \")\n",
    "print(nome)"
   ]
  },
  {
   "cell_type": "code",
   "execution_count": 3,
   "metadata": {},
   "outputs": [
    {
     "name": "stdout",
     "output_type": "stream",
     "text": [
      "11\n",
      "2\n"
     ]
    }
   ],
   "source": [
    "#Testando str e int\n",
    "x = \"1\"\n",
    "y = 1\n",
    "print(x + str(y))\n",
    "print(int(x) + y)"
   ]
  },
  {
   "cell_type": "code",
   "execution_count": 4,
   "metadata": {},
   "outputs": [
    {
     "name": "stdout",
     "output_type": "stream",
     "text": [
      "<class 'int'>\n",
      "<class 'float'>\n",
      "<class 'bool'>\n",
      "<class 'list'>\n",
      "<class 'str'>\n",
      "Bem vindo ao meu código v Be dig\n",
      "O valor de x é 10\n",
      "O valor de x é 20\n"
     ]
    }
   ],
   "source": [
    "#Brincando com tipos de dados\n",
    "a = 1\n",
    "b = 1.1\n",
    "c = True\n",
    "d = [1, \"a\", True, {\"nome\": \"André\", \"idade\": 20}]\n",
    "e = \"Bem vindo ao meu código\"\n",
    "\n",
    "print(type(a))\n",
    "print(type(b))\n",
    "print(type(c))\n",
    "print(type(d))\n",
    "print(type(e))\n",
    "\n",
    "print(e, e[4], e[0:2], e[-4:-1])\n",
    "\n",
    "print(\"O valor de x é %d\" %10)\n",
    "print(f\"O valor de x é {10 * 2}\")"
   ]
  },
  {
   "cell_type": "markdown",
   "metadata": {},
   "source": [
    "## Fixação"
   ]
  },
  {
   "cell_type": "markdown",
   "metadata": {},
   "source": [
    "**Faça um Programa que calcule a área de um quadrado, em seguida mostre o dobro desta área para o usuário.**"
   ]
  },
  {
   "cell_type": "code",
   "execution_count": 4,
   "metadata": {},
   "outputs": [
    {
     "name": "stdout",
     "output_type": "stream",
     "text": [
      "A área do quadrado é: 25.0\n",
      "50.0\n"
     ]
    }
   ],
   "source": [
    "import math\n",
    "lado = int(input('Digite o valor do lado do quadrado: '))\n",
    "area = math.pow(lado, 2)\n",
    "print('A área do quadrado é:', area)\n",
    "print(area*2)"
   ]
  },
  {
   "cell_type": "markdown",
   "metadata": {},
   "source": [
    "**Faça um Programa que pergunte quanto você ganha por hora e o número de horas trabalhadas no mês. Calcule e mostre o total do seu salário no referido mês, sabendo-se que são descontados 11% para o Imposto de Renda, 8% para o INSS e 5% para o sindicato, faça um programa que nos dê:**\n",
    "1. salário bruto.\n",
    "2. quanto pagou ao INSS.\n",
    "3. quanto pagou ao sindicato.\n",
    "4. o salário líquido.\n",
    "5. calcule os descontos e o salário líquido, conforme a tabela abaixo:\n",
    "* \\+ Salário Bruto : R\\$\n",
    "* \\- IR (11%) : R\\$\n",
    "* \\- INSS (8%) : R\\$\n",
    "* \\- Sindicato ( 5%) : R\\$\n",
    "* \\= Salário Liquido : R\\$\n",
    "\n",
    "**Obs.:** Salário Bruto - Descontos = Salário Líquido."
   ]
  },
  {
   "cell_type": "code",
   "execution_count": 5,
   "metadata": {},
   "outputs": [
    {
     "name": "stdout",
     "output_type": "stream",
     "text": [
      "Salário Bruto: R$ 1600.00\n",
      "INSS (8%): R$ 128.00\n",
      "Sindicato (5%): R$ 80.00\n",
      "Salário Líquido R$ 1216.00\n"
     ]
    }
   ],
   "source": [
    "valorHora = float(input('Valor por hora: R$ '))\n",
    "horasTrab = float(input('Horas trabalhadas/mês: '))\n",
    "salBruto = valorHora * horasTrab\n",
    "inss = salBruto * 0.08\n",
    "sindicato = salBruto * 0.05\n",
    "impostoRenda = salBruto * 0.11\n",
    "salLiq = salBruto - impostoRenda - inss - sindicato\n",
    "print(f'Salário Bruto: R$ {salBruto:.2f}')\n",
    "print(f'INSS (8%): R$ {inss:.2f}')\n",
    "print(f'Sindicato (5%): R$ {sindicato:.2f}')\n",
    "print(f'Salário Líquido R$ {salLiq:.2f}')"
   ]
  }
 ],
 "metadata": {
  "kernelspec": {
   "display_name": "Python 3",
   "language": "python",
   "name": "python3"
  },
  "language_info": {
   "codemirror_mode": {
    "name": "ipython",
    "version": 3
   },
   "file_extension": ".py",
   "mimetype": "text/x-python",
   "name": "python",
   "nbconvert_exporter": "python",
   "pygments_lexer": "ipython3",
   "version": "3.12.3"
  }
 },
 "nbformat": 4,
 "nbformat_minor": 2
}
