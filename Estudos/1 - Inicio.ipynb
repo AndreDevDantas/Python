{
 "cells": [
  {
   "cell_type": "code",
   "execution_count": 2,
   "metadata": {},
   "outputs": [
    {
     "name": "stdout",
     "output_type": "stream",
     "text": [
      "Olá Mundo\n",
      "None\n"
     ]
    }
   ],
   "source": [
    "#Primeiro Hello World\n",
    "nome = print(\"Olá Mundo\")\n",
    "print(nome)"
   ]
  },
  {
   "cell_type": "code",
   "execution_count": 2,
   "metadata": {},
   "outputs": [
    {
     "name": "stdout",
     "output_type": "stream",
     "text": [
      "andre\n"
     ]
    }
   ],
   "source": [
    "#Teste com Input\n",
    "nome = input(\"Informe o nome para ser apresentado: \")\n",
    "print(nome)"
   ]
  },
  {
   "cell_type": "code",
   "execution_count": 3,
   "metadata": {},
   "outputs": [
    {
     "name": "stdout",
     "output_type": "stream",
     "text": [
      "11\n",
      "2\n"
     ]
    }
   ],
   "source": [
    "#Testando str e int\n",
    "x = \"1\"\n",
    "y = 1\n",
    "print(x + str(y))\n",
    "print(int(x) + y)"
   ]
  },
  {
   "cell_type": "code",
   "execution_count": 4,
   "metadata": {},
   "outputs": [
    {
     "name": "stdout",
     "output_type": "stream",
     "text": [
      "<class 'int'>\n",
      "<class 'float'>\n",
      "<class 'bool'>\n",
      "<class 'list'>\n",
      "<class 'str'>\n",
      "Bem vindo ao meu código v Be dig\n",
      "O valor de x é 10\n",
      "O valor de x é 20\n"
     ]
    }
   ],
   "source": [
    "#Brincando com tipos de dados\n",
    "a = 1\n",
    "b = 1.1\n",
    "c = True\n",
    "d = [1, \"a\", True, {\"nome\": \"André\", \"idade\": 20}]\n",
    "e = \"Bem vindo ao meu código\"\n",
    "\n",
    "print(type(a))\n",
    "print(type(b))\n",
    "print(type(c))\n",
    "print(type(d))\n",
    "print(type(e))\n",
    "\n",
    "print(e, e[4], e[0:2], e[-4:-1])\n",
    "\n",
    "print(\"O valor de x é %d\" %10)\n",
    "print(f\"O valor de x é {10 * 2}\")"
   ]
  }
 ],
 "metadata": {
  "kernelspec": {
   "display_name": "Python 3",
   "language": "python",
   "name": "python3"
  },
  "language_info": {
   "codemirror_mode": {
    "name": "ipython",
    "version": 3
   },
   "file_extension": ".py",
   "mimetype": "text/x-python",
   "name": "python",
   "nbconvert_exporter": "python",
   "pygments_lexer": "ipython3",
   "version": "3.12.3"
  }
 },
 "nbformat": 4,
 "nbformat_minor": 2
}
