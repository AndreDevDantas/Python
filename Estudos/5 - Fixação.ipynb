{
 "cells": [
  {
   "cell_type": "markdown",
   "metadata": {},
   "source": [
    "## Fixação"
   ]
  },
  {
   "cell_type": "markdown",
   "metadata": {},
   "source": [
    "Em um jogo para se saber o número da sorte de uma pessoa, deve-se encontrar um número mágico que se obtem com a seguinte regra: Se somam os dígitos da data de nascimento e se somam novamente os dígitos deste resultado para obter um digito somente, como no exemplo a seguir:\n",
    "\n",
    "* Data de nascimento: 28/11/1989\n",
    "* 28 + 11 + 1989 = 2028 --> 2 + 0 + 2 + 8 = 12 --> 1 + 2 = 3\n",
    "* Então o número da sorte é 3\n",
    "\n",
    "Leia tres números: dia, mes, ano e mostre o número mágico correspondente"
   ]
  },
  {
   "cell_type": "code",
   "execution_count": 2,
   "metadata": {},
   "outputs": [
    {
     "name": "stdout",
     "output_type": "stream",
     "text": [
      "4\n"
     ]
    }
   ],
   "source": [
    "dia = int(input(\"Digite o dia: \"))\n",
    "mes = int(input(\"Digite o mes: \"))\n",
    "ano = int(input(\"Digite o ano: \"))\n",
    "soma = dia + mes + ano\n",
    "lista = str(soma)\n",
    "total = 0\n",
    "for i in range (0, 4):\n",
    "  total = total + int(lista[i])\n",
    "total = str(total)\n",
    "\n",
    "if(len(total) > 1):\n",
    "  t = total\n",
    "  total = int(t[0]) + int(t[1])\n",
    "print(total)"
   ]
  },
  {
   "cell_type": "markdown",
   "metadata": {},
   "source": [
    "O professor deseja dividir uma turma com N alunos em dois grupos: um com M alunos e outro com (N-M) alunos.\n",
    "\n",
    "Faça o programa que lê o valor de N e M e informa o número de combinações possíveis <br>\n",
    "* Número de combinações é igual a N!/(M! * (N-M)!)"
   ]
  },
  {
   "cell_type": "code",
   "execution_count": 4,
   "metadata": {},
   "outputs": [
    {
     "name": "stdout",
     "output_type": "stream",
     "text": [
      "21.0 combinaçôes possiveis\n"
     ]
    }
   ],
   "source": [
    "def fatorial(valor):\n",
    "  fat = 1\n",
    "  for i in range (1, valor+1):\n",
    "    fat = i * fat\n",
    "  return fat\n",
    "\n",
    "n = 7\n",
    "m = 5\n",
    "fn = fatorial (n)\n",
    "fm = fatorial(m)\n",
    "fnm = fatorial(n-m)\n",
    "formula = (fn / (fm * (fnm)))\n",
    "print (f'{formula} combinaçôes possiveis')"
   ]
  },
  {
   "cell_type": "markdown",
   "metadata": {},
   "source": [
    "**Faça um Programa que calcule a área de um quadrado, em seguida mostre o dobro desta área para o usuário.**"
   ]
  },
  {
   "cell_type": "code",
   "execution_count": 5,
   "metadata": {},
   "outputs": [
    {
     "name": "stdout",
     "output_type": "stream",
     "text": [
      "A área do quadrado é: 400.0\n",
      "800.0\n"
     ]
    }
   ],
   "source": [
    "import math\n",
    "lado = int(input('Digite o valor do lado do quadrado: '))\n",
    "area = math.pow(lado, 2)\n",
    "print('A área do quadrado é:', area)\n",
    "print(area*2)"
   ]
  },
  {
   "cell_type": "markdown",
   "metadata": {},
   "source": [
    "**Faça um Programa que pergunte quanto você ganha por hora e o número de horas trabalhadas no mês. Calcule e mostre o total do seu salário no referido mês, sabendo-se que são descontados 11% para o Imposto de Renda, 8% para o INSS e 5% para o sindicato, faça um programa que nos dê:**\n",
    "1. salário bruto.\n",
    "2. quanto pagou ao INSS.\n",
    "3. quanto pagou ao sindicato.\n",
    "4. o salário líquido.\n",
    "5. calcule os descontos e o salário líquido, conforme a tabela abaixo:\n",
    "* \\+ Salário Bruto : R\\$\n",
    "* \\- IR (11%) : R\\$\n",
    "* \\- INSS (8%) : R\\$\n",
    "* \\- Sindicato ( 5%) : R\\$\n",
    "* \\= Salário Liquido : R\\$\n",
    "\n",
    "**Obs.:** Salário Bruto - Descontos = Salário Líquido."
   ]
  },
  {
   "cell_type": "code",
   "execution_count": 6,
   "metadata": {},
   "outputs": [
    {
     "name": "stdout",
     "output_type": "stream",
     "text": [
      "Salário Bruto: R$ 4000.00\n",
      "INSS (8%): R$ 320.00\n",
      "Sindicato (5%): R$ 200.00\n",
      "Salário Líquido R$ 3040.00\n"
     ]
    }
   ],
   "source": [
    "valorHora = float(input('Valor por hora: R$ '))\n",
    "horasTrab = float(input('Horas trabalhadas/mês: '))\n",
    "salBruto = valorHora * horasTrab\n",
    "inss = salBruto * 0.08\n",
    "sindicato = salBruto * 0.05\n",
    "impostoRenda = salBruto * 0.11\n",
    "salLiq = salBruto - impostoRenda - inss - sindicato\n",
    "print(f'Salário Bruto: R$ {salBruto:.2f}')\n",
    "print(f'INSS (8%): R$ {inss:.2f}')\n",
    "print(f'Sindicato (5%): R$ {sindicato:.2f}')\n",
    "print(f'Salário Líquido R$ {salLiq:.2f}')"
   ]
  },
  {
   "cell_type": "markdown",
   "metadata": {},
   "source": [
    "**Faça um programa para a leitura de duas notas parciais de um aluno. O programa deve calcular a média alcançada por aluno e apresentar:**\n",
    "\n",
    "* A mensagem \"Aprovado\", se a média alcançada for maior ou igual a sete;\n",
    "* A mensagem \"Reprovado\", se a média for menor do que sete;\n",
    "* A mensagem \"Aprovado com Distinção\", se a média for igual a dez. "
   ]
  },
  {
   "cell_type": "code",
   "execution_count": 7,
   "metadata": {},
   "outputs": [
    {
     "name": "stdout",
     "output_type": "stream",
     "text": [
      "Aprovado\n",
      "Processo encerrado\n"
     ]
    }
   ],
   "source": [
    "nota1 = float(input('Digite a nota 1: '))\n",
    "nota2 = float(input('Digite a nota 2: '))\n",
    "media = (nota1 + nota2) / 2\n",
    "if (media == 10):\n",
    "  print('Aprovado com Distinção')\n",
    "elif (media >= 7):\n",
    "  print('Aprovado')\n",
    "else:\n",
    "  print('Reprovado')\n",
    "print('Processo encerrado')"
   ]
  },
  {
   "cell_type": "markdown",
   "metadata": {},
   "source": [
    "**Somar e/ou multiplicar dois valores**"
   ]
  },
  {
   "cell_type": "code",
   "execution_count": 8,
   "metadata": {},
   "outputs": [
    {
     "name": "stdout",
     "output_type": "stream",
     "text": [
      "A multiplicação:  100\n",
      "Processo encerrado\n"
     ]
    }
   ],
   "source": [
    "op = input('Multiplicar (M) ou Somar (S): ')\n",
    "op = op.upper()\n",
    "if(op == 'M'):\n",
    "  n1 = int(input('Digite um valor: '))\n",
    "  n2 = int(input('Digite outro valor: '))\n",
    "  mult = n1 * n2\n",
    "  print('A multiplicação: ', mult)\n",
    "elif(op == 'S'):\n",
    "  n1 = int(input('Digite um valor: '))\n",
    "  n2 = int(input('Digite outro valor: '))\n",
    "  soma = n1 + n2\n",
    "  print('A soma: ', soma)\n",
    "else:\n",
    "  print('Operação inválida')\n",
    "print('Processo encerrado')"
   ]
  },
  {
   "cell_type": "markdown",
   "metadata": {},
   "source": [
    "**Programa para informar o número de dias de um mês qualquer**"
   ]
  },
  {
   "cell_type": "code",
   "execution_count": 9,
   "metadata": {},
   "outputs": [
    {
     "name": "stdout",
     "output_type": "stream",
     "text": [
      "este mes tem 30 dias\n"
     ]
    }
   ],
   "source": [
    "mes = int(input('Digite o número do mês (1,2,3...): '))\n",
    "# listar meses com 31\n",
    "if(mes == 1 or mes == 3 or mes == 5 or mes == 7 or mes == 8 or mes == 10 or mes == 12):\n",
    "  print('este mes tem 31 dias')\n",
    "elif (mes == 4 or mes == 6 or mes == 9 or mes == 11):\n",
    "  print('este mes tem 30 dias')\n",
    "elif(mes == 2):\n",
    "  ano = int(input('Digite o ano: '))\n",
    "  if(ano % 4 == 0):\n",
    "    print('este mes tem 29 dias')\n",
    "  else:\n",
    "    print('este mes tem 28 dias')"
   ]
  },
  {
   "cell_type": "markdown",
   "metadata": {},
   "source": [
    "**Fazer um programa que soma X numeros gerados aleatoriamente no intervalo de 1 a 10, onde X é informado pelo usuario**"
   ]
  },
  {
   "cell_type": "code",
   "execution_count": 10,
   "metadata": {},
   "outputs": [
    {
     "name": "stdout",
     "output_type": "stream",
     "text": [
      "O valor sorteado na 1º foi: 8\n",
      "O valor sorteado na 2º foi: 8\n",
      "O valor total é 16\n"
     ]
    }
   ],
   "source": [
    "from random import randint\n",
    "X = int(input(\"Digite o valor de numeros desejados: \"))\n",
    "acumulador = 0\n",
    "for s in range (0,X):\n",
    "  sorteio = randint(1, 10)\n",
    "  print(f\"O valor sorteado na {s + 1}º foi: {sorteio}\")\n",
    "  acumulador = acumulador + sorteio\n",
    "print(f\"O valor total é {acumulador}\")"
   ]
  },
  {
   "cell_type": "markdown",
   "metadata": {},
   "source": [
    "**Calcular o fatorial de um numero qualquer**"
   ]
  },
  {
   "cell_type": "code",
   "execution_count": 12,
   "metadata": {},
   "outputs": [
    {
     "name": "stdout",
     "output_type": "stream",
     "text": [
      "O valor do fatorial é: 120\n"
     ]
    }
   ],
   "source": [
    "F = int(input(\"Digite o valor do fatorial: \"))\n",
    "acumulador = 1\n",
    "\n",
    "for s in range (1, F+1):\n",
    "  acumulador = acumulador*s\n",
    "\n",
    "print(f\"O valor do fatorial é: {acumulador}\")"
   ]
  },
  {
   "cell_type": "markdown",
   "metadata": {},
   "source": [
    "**Imprimir todos os quadrados menores que n. Por exemplo, se n for 100, imprimir 0 1 4 9 16 25 36 49 64 81.**"
   ]
  },
  {
   "cell_type": "code",
   "execution_count": 13,
   "metadata": {},
   "outputs": [
    {
     "name": "stdout",
     "output_type": "stream",
     "text": [
      "0\n",
      "0\n",
      "1\n",
      "4\n",
      "9\n",
      "16\n",
      "25\n",
      "36\n",
      "49\n"
     ]
    }
   ],
   "source": [
    "n = float(input('Digite o Valor de N: '))\n",
    "x = 0\n",
    "y = 0\n",
    "while y < n:\n",
    "  print (y)\n",
    "  y = x * x\n",
    "  x+= 1"
   ]
  },
  {
   "cell_type": "markdown",
   "metadata": {},
   "source": [
    "**Imprimir a soma de todos os números ímpares entre a e b.**"
   ]
  },
  {
   "cell_type": "code",
   "execution_count": 14,
   "metadata": {},
   "outputs": [
    {
     "name": "stdout",
     "output_type": "stream",
     "text": [
      "2500.0\n"
     ]
    }
   ],
   "source": [
    "a = float(input('Digite o valor de A: '))\n",
    "b = float(input('Digite o valor de B: '))\n",
    "n = 0\n",
    "\n",
    "while a <= b:\n",
    "  resto = a % 2\n",
    "  if(resto != 0):\n",
    "    n = n + a\n",
    "  a+= 1\n",
    "print(n)"
   ]
  }
 ],
 "metadata": {
  "kernelspec": {
   "display_name": "Python 3",
   "language": "python",
   "name": "python3"
  },
  "language_info": {
   "codemirror_mode": {
    "name": "ipython",
    "version": 3
   },
   "file_extension": ".py",
   "mimetype": "text/x-python",
   "name": "python",
   "nbconvert_exporter": "python",
   "pygments_lexer": "ipython3",
   "version": "3.12.3"
  }
 },
 "nbformat": 4,
 "nbformat_minor": 2
}
