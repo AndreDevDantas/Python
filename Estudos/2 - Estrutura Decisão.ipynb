{
 "cells": [
  {
   "cell_type": "markdown",
   "metadata": {},
   "source": [
    "Testando e brincando com estrutura de decisão (If, Else, Elif)"
   ]
  },
  {
   "cell_type": "code",
   "execution_count": 1,
   "metadata": {},
   "outputs": [
    {
     "name": "stdout",
     "output_type": "stream",
     "text": [
      "O valor de b = 21 é maior que o valor de a = 21\n",
      "Aqui vai aparecer sempre\n"
     ]
    }
   ],
   "source": [
    "#Brincando com a indentação  para saida do print\n",
    "a = int(input(\"Informe o valor de a: \"))\n",
    "b = int(input(\"Informe o valor de b: \"))\n",
    "\n",
    "if a > b:\n",
    "    print(f\"O valor de a = {a} é maior que o valor de b = {b}\")\n",
    "else:\n",
    "    print(f\"O valor de b = {b} é maior que o valor de a = {b}\")\n",
    "\n",
    "print(\"Aqui vai aparecer sempre\")"
   ]
  },
  {
   "cell_type": "code",
   "execution_count": 2,
   "metadata": {},
   "outputs": [
    {
     "name": "stdout",
     "output_type": "stream",
     "text": [
      "a = 12 < b = 21\n"
     ]
    }
   ],
   "source": [
    "#testando estrutura em uma linha\n",
    "print(f\"a = {a} < b = {b}\") if a < b else print(f\"a = {a} > b{b}\")"
   ]
  },
  {
   "cell_type": "code",
   "execution_count": 3,
   "metadata": {},
   "outputs": [
    {
     "name": "stdout",
     "output_type": "stream",
     "text": [
      "Valor não encontrado\n"
     ]
    }
   ],
   "source": [
    "#Brincando com else para opções não planejadas\n",
    "categoria = int(input(\"Informe o valor da categoria: \"))\n",
    "\n",
    "if categoria == 1:\n",
    "    print(\"Valor 10\")\n",
    "elif categoria == 2:\n",
    "    print(\"Valor 20\")\n",
    "else:\n",
    "    print(\"Valor não encontrado\")"
   ]
  },
  {
   "cell_type": "markdown",
   "metadata": {},
   "source": [
    "## Codigos de Fixação"
   ]
  },
  {
   "cell_type": "markdown",
   "metadata": {},
   "source": [
    "**Faça um programa para a leitura de duas notas parciais de um aluno. O programa deve calcular a média alcançada por aluno e apresentar:**\n",
    "\n",
    "* A mensagem \"Aprovado\", se a média alcançada for maior ou igual a sete;\n",
    "* A mensagem \"Reprovado\", se a média for menor do que sete;\n",
    "* A mensagem \"Aprovado com Distinção\", se a média for igual a dez. "
   ]
  },
  {
   "cell_type": "code",
   "execution_count": 1,
   "metadata": {},
   "outputs": [
    {
     "name": "stdout",
     "output_type": "stream",
     "text": [
      "Aprovado\n",
      "Processo encerrado\n"
     ]
    }
   ],
   "source": [
    "nota1 = float(input('Digite a nota 1: '))\n",
    "nota2 = float(input('Digite a nota 2: '))\n",
    "media = (nota1 + nota2) / 2\n",
    "if (media == 10):\n",
    "  print('Aprovado com Distinção')\n",
    "elif (media >= 7):\n",
    "  print('Aprovado')\n",
    "else:\n",
    "  print('Reprovado')\n",
    "print('Processo encerrado')"
   ]
  },
  {
   "cell_type": "markdown",
   "metadata": {},
   "source": [
    "**Somar e/ou multiplicar dois valores**"
   ]
  },
  {
   "cell_type": "code",
   "execution_count": 2,
   "metadata": {},
   "outputs": [
    {
     "name": "stdout",
     "output_type": "stream",
     "text": [
      "A multiplicação:  50\n",
      "Processo encerrado\n"
     ]
    }
   ],
   "source": [
    "op = input('Multiplicar (M) ou Somar (S): ')\n",
    "op = op.upper()\n",
    "if(op == 'M'):\n",
    "  n1 = int(input('Digite um valor: '))\n",
    "  n2 = int(input('Digite outro valor: '))\n",
    "  mult = n1 * n2\n",
    "  print('A multiplicação: ', mult)\n",
    "elif(op == 'S'):\n",
    "  n1 = int(input('Digite um valor: '))\n",
    "  n2 = int(input('Digite outro valor: '))\n",
    "  soma = n1 + n2\n",
    "  print('A soma: ', soma)\n",
    "else:\n",
    "  print('Operação inválida')\n",
    "print('Processo encerrado')"
   ]
  },
  {
   "cell_type": "markdown",
   "metadata": {},
   "source": [
    "**Programa para informar o número de dias de um mês qualquer**"
   ]
  },
  {
   "cell_type": "code",
   "execution_count": 4,
   "metadata": {},
   "outputs": [
    {
     "name": "stdout",
     "output_type": "stream",
     "text": [
      "este mes tem 31 dias\n"
     ]
    }
   ],
   "source": [
    "mes = int(input('Digite o número do mês (1,2,3...): '))\n",
    "# listar meses com 31\n",
    "if(mes == 1 or mes == 3 or mes == 5 or mes == 7 or mes == 8 or mes == 10 or mes == 12):\n",
    "  print('este mes tem 31 dias')\n",
    "elif (mes == 4 or mes == 6 or mes == 9 or mes == 11):\n",
    "  print('este mes tem 30 dias')\n",
    "elif(mes == 2):\n",
    "  ano = int(input('Digite o ano: '))\n",
    "  if(ano % 4 == 0):\n",
    "    print('este mes tem 29 dias')\n",
    "  else:\n",
    "    print('este mes tem 28 dias')"
   ]
  }
 ],
 "metadata": {
  "kernelspec": {
   "display_name": "Python 3",
   "language": "python",
   "name": "python3"
  },
  "language_info": {
   "codemirror_mode": {
    "name": "ipython",
    "version": 3
   },
   "file_extension": ".py",
   "mimetype": "text/x-python",
   "name": "python",
   "nbconvert_exporter": "python",
   "pygments_lexer": "ipython3",
   "version": "3.12.3"
  }
 },
 "nbformat": 4,
 "nbformat_minor": 2
}
