{
 "cells": [
  {
   "cell_type": "markdown",
   "metadata": {},
   "source": [
    "# Manipulação de Arquivos - Leitura"
   ]
  },
  {
   "cell_type": "code",
   "execution_count": 1,
   "metadata": {},
   "outputs": [
    {
     "name": "stdout",
     "output_type": "stream",
     "text": [
      "c:\\Users\\Light\\Desktop\\Dev\\Python\\Python\\Estudos\\6.1-Arquivos\n"
     ]
    }
   ],
   "source": [
    "#Importa as bibliotecas e criar a variavel para a pasta de arquivos\n",
    "\n",
    "from os import getcwd, path\n",
    "\n",
    "pasta = path.join(getcwd(), \"6.1-Arquivos\")\n",
    "print(pasta)"
   ]
  },
  {
   "cell_type": "code",
   "execution_count": 2,
   "metadata": {},
   "outputs": [
    {
     "name": "stdout",
     "output_type": "stream",
     "text": [
      "['Andre#10#9#8.5\\n', 'Maria#9#6.8#8.5\\n', 'Pedro#7#4#3.8\\n', 'Fatima#9#6.8#8.5\\n', 'Saulo#7.7#4.9#7.8\\n', 'Joana#8.3#8.7#6.8\\n', 'Tiago#6.8#5.3#5.8\\n', 'runo#7.5#6.8#4.8']\n"
     ]
    }
   ],
   "source": [
    "#Abertura, leitura e fechamento do arquivo\n",
    "arquivo = open(path.join(pasta, \"dados.txt\"))\n",
    "dados = arquivo.readlines()\n",
    "arquivo.close()\n",
    "print(dados)"
   ]
  },
  {
   "cell_type": "code",
   "execution_count": 3,
   "metadata": {},
   "outputs": [
    {
     "name": "stdout",
     "output_type": "stream",
     "text": [
      "Olá Andre, suas notas foram 10, 9, 8.5\n",
      "Olá Maria, suas notas foram 9, 6.8, 8.5\n",
      "Olá Pedro, suas notas foram 7, 4, 3.8\n",
      "Olá Fatima, suas notas foram 9, 6.8, 8.5\n",
      "Olá Saulo, suas notas foram 7.7, 4.9, 7.8\n",
      "Olá Joana, suas notas foram 8.3, 8.7, 6.8\n",
      "Olá Tiago, suas notas foram 6.8, 5.3, 5.8\n",
      "Olá runo, suas notas foram 7.5, 6.8, 4.\n"
     ]
    }
   ],
   "source": [
    "#Testando a manipulção de dados do txt e apresentação\n",
    "for linha in dados:\n",
    "    valores = linha[0:-1].split('#')\n",
    "    print(f\"Olá {valores[0]}, suas notas foram {valores[1]}, {valores[2]}, {valores[3]}\")"
   ]
  }
 ],
 "metadata": {
  "kernelspec": {
   "display_name": "Python 3",
   "language": "python",
   "name": "python3"
  },
  "language_info": {
   "codemirror_mode": {
    "name": "ipython",
    "version": 3
   },
   "file_extension": ".py",
   "mimetype": "text/x-python",
   "name": "python",
   "nbconvert_exporter": "python",
   "pygments_lexer": "ipython3",
   "version": "3.12.3"
  }
 },
 "nbformat": 4,
 "nbformat_minor": 2
}
