{
 "cells": [
  {
   "cell_type": "markdown",
   "metadata": {},
   "source": [
    "Testando e brincando com estrutura de decisão (If, Else, Elif)"
   ]
  },
  {
   "cell_type": "code",
   "execution_count": 1,
   "metadata": {},
   "outputs": [
    {
     "name": "stdout",
     "output_type": "stream",
     "text": [
      "O valor de b = 21 é maior que o valor de a = 21\n",
      "Aqui vai aparecer sempre\n"
     ]
    }
   ],
   "source": [
    "#Brincando com a indentação  para saida do print\n",
    "a = int(input(\"Informe o valor de a: \"))\n",
    "b = int(input(\"Informe o valor de b: \"))\n",
    "\n",
    "if a > b:\n",
    "    print(f\"O valor de a = {a} é maior que o valor de b = {b}\")\n",
    "else:\n",
    "    print(f\"O valor de b = {b} é maior que o valor de a = {b}\")\n",
    "\n",
    "print(\"Aqui vai aparecer sempre\")"
   ]
  },
  {
   "cell_type": "code",
   "execution_count": 2,
   "metadata": {},
   "outputs": [
    {
     "name": "stdout",
     "output_type": "stream",
     "text": [
      "a = 12 < b = 21\n"
     ]
    }
   ],
   "source": [
    "#testando estrutura em uma linha\n",
    "print(f\"a = {a} < b = {b}\") if a < b else print(f\"a = {a} > b{b}\")"
   ]
  },
  {
   "cell_type": "code",
   "execution_count": 3,
   "metadata": {},
   "outputs": [
    {
     "name": "stdout",
     "output_type": "stream",
     "text": [
      "Valor não encontrado\n"
     ]
    }
   ],
   "source": [
    "#Brincando com else para opções não planejadas\n",
    "categoria = int(input(\"Informe o valor da categoria: \"))\n",
    "\n",
    "if categoria == 1:\n",
    "    print(\"Valor 10\")\n",
    "elif categoria == 2:\n",
    "    print(\"Valor 20\")\n",
    "else:\n",
    "    print(\"Valor não encontrado\")"
   ]
  }
 ],
 "metadata": {
  "kernelspec": {
   "display_name": "Python 3",
   "language": "python",
   "name": "python3"
  },
  "language_info": {
   "codemirror_mode": {
    "name": "ipython",
    "version": 3
   },
   "file_extension": ".py",
   "mimetype": "text/x-python",
   "name": "python",
   "nbconvert_exporter": "python",
   "pygments_lexer": "ipython3",
   "version": "3.12.3"
  }
 },
 "nbformat": 4,
 "nbformat_minor": 2
}
