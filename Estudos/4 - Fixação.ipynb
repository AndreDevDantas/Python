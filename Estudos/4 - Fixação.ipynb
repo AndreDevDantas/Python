{
 "cells": [
  {
   "cell_type": "markdown",
   "metadata": {},
   "source": [
    "## Fixação\n",
    "\n",
    "Em um jogo para se saber o número da sorte de uma pessoa, deve-se encontrar um número mágico que se obtem com a seguinte regra: Se somam os dígitos da data de nascimento e se somam novamente os dígitos deste resultado para obter um digito somente, como no exemplo a seguir:\n",
    "\n",
    "* Data de nascimento: 28/11/1989\n",
    "* 28 + 11 + 1989 = 2028 --> 2 + 0 + 2 + 8 = 12 --> 1 + 2 = 3\n",
    "* Então o número da sorte é 3\n",
    "\n",
    "Leia tres números: dia, mes, ano e mostre o número mágico correspondente"
   ]
  },
  {
   "cell_type": "code",
   "execution_count": null,
   "metadata": {},
   "outputs": [],
   "source": [
    "dia = int(input(\"Digite o dia: \"))\n",
    "mes = int(input(\"Digite o mes: \"))\n",
    "ano = int(input(\"Digite o ano: \"))\n",
    "soma = dia + mes + ano\n",
    "lista = str(soma)\n",
    "total = 0\n",
    "for i in range (0, 4):\n",
    "  total = total + int(lista[i])\n",
    "total = str(total)\n",
    "\n",
    "if(len(total) > 1):\n",
    "  t = total\n",
    "  total = int(t[0]) + int(t[1])\n",
    "print(total)"
   ]
  },
  {
   "cell_type": "markdown",
   "metadata": {},
   "source": [
    "O professor deseja dividir uma turma com N alunos em dois grupos: um com M alunos e outro com (N-M) alunos.\n",
    "\n",
    "Faça o programa que lê o valor de N e M e informa o número de combinações possíveis <br>\n",
    "* Número de combinações é igual a N!/(M! * (N-M)!)"
   ]
  },
  {
   "cell_type": "code",
   "execution_count": null,
   "metadata": {},
   "outputs": [],
   "source": [
    "def fatorial(valor):\n",
    "  fat = 1\n",
    "  for i in range (1, valor+1):\n",
    "    fat = i * fat\n",
    "  return fat\n",
    "\n",
    "n = 7\n",
    "m = 5\n",
    "fn = fatorial (n)\n",
    "fm = fatorial(m)\n",
    "fnm = fatorial(n-m)\n",
    "formula = (fn / (fm * (fnm)))\n",
    "print (f'{formula} combinaçôes possiveis')"
   ]
  }
 ],
 "metadata": {
  "kernelspec": {
   "display_name": "Python 3",
   "language": "python",
   "name": "python3"
  },
  "language_info": {
   "codemirror_mode": {
    "name": "ipython",
    "version": 3
   },
   "file_extension": ".py",
   "mimetype": "text/x-python",
   "name": "python",
   "nbconvert_exporter": "python",
   "pygments_lexer": "ipython3",
   "version": "3.12.3"
  }
 },
 "nbformat": 4,
 "nbformat_minor": 2
}
